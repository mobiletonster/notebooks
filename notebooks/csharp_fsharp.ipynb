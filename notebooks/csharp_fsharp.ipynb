{
  "cells": [
    {
      "cell_type": "markdown",
      "metadata": {},
      "source": [
        "# .NET Interactive Notebooks can be very cool\n",
        "This first method (C#) is demonstrating a simple loop where we output an integer, casted as a double, divide by 4.2 and format it to 2 decimal places and a leading zero, followed by the current datetime at execution in ticks."
      ]
    },
    {
      "cell_type": "code",
      "execution_count": 1,
      "metadata": {
        "dotnet_interactive": {
          "language": "csharp"
        }
      },
      "source": [
        "for(double i=0;i<10;i++){\n",
        "    Console.WriteLine($\"{i/4.2:0.00} at {DateTime.Now.Ticks}\");\n",
        "}"
      ],
      "outputs": []
    },
    {
      "cell_type": "markdown",
      "metadata": {},
      "source": [
        "This next method (F#) attempts to duplicate the same code as the C# example above."
      ]
    },
    {
      "cell_type": "code",
      "execution_count": 1,
      "metadata": {
        "dotnet_interactive": {
          "language": "fsharp"
        }
      },
      "source": [
        "for i = 0 to 9 do  \n",
        "      printfn $\"{((i:float)/4.2):N2} at {DateTime.Now.Ticks}\""
      ],
      "outputs": []
    },
    {
      "cell_type": "markdown",
      "metadata": {},
      "source": [
        "The almost equivalent code in Javascript. Ticks aren't quite ticks as far as I can tell as they seem to be a different number."
      ]
    },
    {
      "cell_type": "code",
      "execution_count": 1,
      "metadata": {
        "dotnet_interactive": {
          "language": "javascript"
        }
      },
      "source": [
        "for(i=0;i<10;i++){\n",
        "    console.log(`${(i/4.2).toFixed(2)} at ${(new Date()).getTime()}`)\n",
        "}"
      ],
      "outputs": []
    },
    {
      "cell_type": "markdown",
      "metadata": {},
      "source": [
        "Here is a static version in HTML, because we can't really execute imperative code in a HTML as it is a declarative langauge."
      ]
    },
    {
      "cell_type": "code",
      "execution_count": 1,
      "metadata": {
        "dotnet_interactive": {
          "language": "html"
        }
      },
      "source": [
        "<table>\n",
        "<tr><td>0.00</td><td> at </td><td>1641826868456</td></tr>\n",
        "<tr><td>0.24</td><td> at </td><td>1641826868456</td></tr>\n",
        "<tr><td>0.48</td><td> at </td><td>1641826868456</td></tr>\n",
        "<tr><td>0.71</td><td> at </td><td>1641826868456</td></tr>\n",
        "<tr><td>0.95</td><td> at </td><td>1641826868456</td></tr>\n",
        "<tr><td>1.19</td><td> at </td><td>1641826868456</td></tr>\n",
        "<tr><td>1.43</td><td> at </td><td>1641826868456</td></tr>\n",
        "<tr><td>1.67</td><td> at </td><td>1641826868456</td></tr>\n",
        "<tr><td>1.90</td><td> at </td><td>1641826868456</td></tr>\n",
        "<tr><td>2.14</td><td> at </td><td>1641826868456</td></tr>\n",
        "</table>"
      ],
      "outputs": []
    },
    {
      "cell_type": "markdown",
      "metadata": {},
      "source": [
        "And finally, in Powershell"
      ]
    },
    {
      "cell_type": "code",
      "execution_count": 1,
      "metadata": {
        "dotnet_interactive": {
          "language": "pwsh"
        }
      },
      "source": [
        "for($i = 0; $i -lt 10; $i++){ \n",
        "    \"{0:N2} at {1}\" -f ($i/4.2), (get-date).Ticks\n",
        "}"
      ],
      "outputs": []
    },
    {
      "cell_type": "code",
      "execution_count": 1,
      "metadata": {
        "dotnet_interactive": {
          "language": "pwsh"
        }
      },
      "source": [
        "<# Install-Module PowershellNotebook #>\n",
        "\n",
        "<# Get-Command -Module PowerShellNotebook | \n",
        "    Select-Object -ExpandProperty Name | \n",
        "    Foreach-Object { \n",
        "        Get-Help $_ | Select-Object Name, { $_.Synopsis.Trim() }\n",
        "    } #>\n",
        "\n",
        "    <#\n",
        "ConvertFrom-NotebookToMarkdown -NotebookName /Users/tonyspencer/repos/notebooks/notebooks/csharp_fsharp.ipynb\n",
        "#>"
      ],
      "outputs": [
        {
          "output_type": "execute_result",
          "data": {
            "application/vnd.code.notebook.stdout": "\n    Directory: /Users/tonyspencer/Repos/notebooks/notebooks\n\n\u001B[32;1mUnixMode   User             Group                 LastWriteTime           Size Name\u001B[0m\n\u001B[32;1m--------   ----             -----                 -------------           ---- ----\u001B[0m\n-rw-r--r-- tonyspencer      staff              01/10/2022 09:22           1978 csharp_fsharp.md\n\n"
          },
          "execution_count": 1,
          "metadata": {}
        }
      ]
    }
  ],
  "metadata": {
    "kernelspec": {
      "display_name": ".NET (C#)",
      "language": "C#",
      "name": ".net-csharp"
    },
    "language_info": {
      "file_extension": ".cs",
      "mimetype": "text/x-csharp",
      "name": "C#",
      "pygments_lexer": "csharp",
      "version": "8.0"
    }
  },
  "nbformat": 4,
  "nbformat_minor": 4
}